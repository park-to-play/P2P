{
 "cells": [
  {
   "cell_type": "markdown",
   "metadata": {},
   "source": [
    "## 서울시 도로 링크 ID 수집"
   ]
  },
  {
   "cell_type": "code",
   "execution_count": null,
   "metadata": {},
   "outputs": [],
   "source": [
    "import xml.etree.ElementTree as ET\n",
    "import pandas as pd\n",
    "import requests\n",
    "import json\n",
    "\n",
    "api_key = '' # vworld api key 입력\n",
    "domain = 'localhost' # vworld apu key 생성시 입력 domain\n",
    "\n",
    "rows = []\n",
    "for page_num in range(1,47,1):\n",
    "    vword_link_api_url = f'https://api.vworld.kr/req/data?service=data&version=2.0&request=GetFeature&format=json&errorformat=json&size=1000&page={page_num}&data=LT_L_MOCTLINK&geomfilter=BOX(126.734086,37.413294,127.269311,37.715133)&columns=link_id,road_name,max_spd,rd_rank_h,rd_type_h,rest_veh_h,rest_w,rest_h,remark,ag_geom&geometry=true&attribute=true&crs=EPSG:4326&domain={domain}&key={api_key}'\n",
    "    \n",
    "\n",
    "    link_res = requests.get(vword_link_api_url) #, headers=vword_api_params)\n",
    "    print(f'page number {page_num} status code: {link_res.status_code}')\n",
    "    \n",
    "    vword_api_data = link_res.json()\n",
    "    features = vword_api_data['response']['result']['featureCollection']['features']\n",
    "\n",
    "    # features 리스트에서 데이터 추출\n",
    "    for feature in features:\n",
    "        properties = feature['properties']\n",
    "        geometry = feature['geometry']\n",
    "        # 필요한 필드 추출\n",
    "        rows.append({\n",
    "            'link_id': properties['link_id'],\n",
    "            'road_name': properties['road_name'],\n",
    "            'geometry': geometry['coordinates'],\n",
    "            'max_spd': properties['max_spd'],\n",
    "            'rd_rank_h': properties['rd_rank_h'],\n",
    "            'rd_type_h': properties['rd_type_h'],\n",
    "            'rest_veh_h': properties['rest_veh_h'],\n",
    "            'rest_w': properties['rest_w'],\n",
    "            'rest_h': properties['rest_h']\n",
    "        })\n",
    "    print(f'finished {page_num} page.')\n",
    "link_df = pd.DataFrame(rows)\n",
    "link_df.to_csv('./vword_linkID_data_241001.csv', index=False, encoding='utf-8-sig')\n",
    "print(f'saved complite.')"
   ]
  },
  {
   "cell_type": "code",
   "execution_count": null,
   "metadata": {},
   "outputs": [],
   "source": []
  },
  {
   "cell_type": "markdown",
   "metadata": {},
   "source": [
    "## 주차장별 1km 반경 도로 정보 수집"
   ]
  },
  {
   "cell_type": "code",
   "execution_count": 1,
   "metadata": {},
   "outputs": [],
   "source": [
    "import pandas as pd\n",
    "import requests\n",
    "import math"
   ]
  },
  {
   "cell_type": "code",
   "execution_count": 2,
   "metadata": {},
   "outputs": [],
   "source": [
    "parking_data = pd.read_csv('./parking_data_20241001_1120.csv') # 주차장 목록"
   ]
  },
  {
   "cell_type": "code",
   "execution_count": 3,
   "metadata": {},
   "outputs": [],
   "source": [
    "# 사각형의 min, max 값을 계산하는 함수\n",
    "def calculate_min_max(lat, lon, radius):\n",
    "    lat_radian = math.radians(lat)\n",
    "    \n",
    "    north_lat = lat + (radius / earth_radius) * (180 / math.pi)\n",
    "    south_lat = lat - (radius / earth_radius) * (180 / math.pi)\n",
    "    east_lon = lon + (radius / (earth_radius * math.cos(lat_radian))) * (180 / math.pi)\n",
    "    west_lon = lon - (radius / (earth_radius * math.cos(lat_radian))) * (180 / math.pi)\n",
    "    \n",
    "    return west_lon, south_lat, east_lon, north_lat\n",
    "\n",
    "# 지구 반지름 (대략적인 값, 미터 단위)\n",
    "earth_radius = 6378137.0\n",
    "\n",
    "# 반경 설정 (미터 단위)\n",
    "radius = 1000  # 1km 반경"
   ]
  },
  {
   "cell_type": "code",
   "execution_count": 4,
   "metadata": {},
   "outputs": [],
   "source": [
    "api_key = '' # vworld api key 입력\n",
    "domain = '' # vworld apu key 생성시 입력 domain\n",
    "\n",
    "rows = []\n",
    "for idx, row in parking_data.iterrows():\n",
    "    lat = row['위도']\n",
    "    lon = row['경도']\n",
    "    west_lon, south_lat, east_lon, north_lat = calculate_min_max(lat, lon, radius)\n",
    "    min_x = west_lon\n",
    "    min_y = south_lat\n",
    "    max_x = east_lon\n",
    "    max_y = north_lat\n",
    "\n",
    "    box_value = f'BOX{min_x, min_y, max_x, max_y}'\n",
    "\n",
    "    vword_link_api_url = f'https://api.vworld.kr/req/data?service=data&version=2.0&request=GetFeature&format=json&errorformat=json&size=1000&page=1&data=LT_L_MOCTLINK&geomfilter={box_value}&columns=link_id,road_name,max_spd,rd_rank_h,rd_type_h,rest_veh_h,rest_w,rest_h,remark,ag_geom&geometry=true&attribute=true&crs=EPSG:4326&domain={domain}&key={api_key}'\n",
    "    \n",
    "    try:\n",
    "        data_res = requests.get(vword_link_api_url)\n",
    "        vword_api_search_data = data_res.json()\n",
    "        \n",
    "        features = vword_api_search_data['response']['result']['featureCollection']['features']\n",
    "        for feature in features:\n",
    "            properties = feature['properties']\n",
    "            geometry = feature['geometry']\n",
    "            # 필요한 필드 추출\n",
    "            rows.append({\n",
    "                '주차장 이름' : row['주차장 이름'],\n",
    "                '주차장 위도' : row['위도'],\n",
    "                '주차장 경도' : row['경도'],\n",
    "                'link_id': properties['link_id'],\n",
    "                # 'road_name': properties['road_name'],\n",
    "                'geometry': geometry['coordinates'],\n",
    "                # 'max_spd': properties['max_spd'],\n",
    "                # 'rd_rank_h': properties['rd_rank_h'],\n",
    "                # 'rd_type_h': properties['rd_type_h'],\n",
    "                # 'rest_veh_h': properties['rest_veh_h']\n",
    "                # 'rest_w': properties['rest_w'],\n",
    "                # 'rest_h': properties['rest_h']\n",
    "            })\n",
    "    except requests.exceptions.RequestException as e:\n",
    "        # Handle exceptions related to the HTTP request\n",
    "        print(f\"Error occurred during API request for parking lot {row['주차장 이름']}: {e}\")\n",
    "    except ValueError as e:\n",
    "        # Handle JSON parsing errors\n",
    "        print(f\"Error parsing JSON for parking lot {row['주차장 이름']}: {e}\")\n",
    "    except KeyError as e:\n",
    "        # Handle missing expected keys in the API response\n",
    "        print(f\"Missing key {e} in API response for parking lot {row['주차장 이름']}\") \n",
    "\n",
    "search_parking_road_data = pd.DataFrame(rows)\n",
    "search_parking_road_data.to_csv('./parking_road_mapping_data_241002.csv', index=False, encoding='utf-8-sig')"
   ]
  },
  {
   "cell_type": "code",
   "execution_count": null,
   "metadata": {},
   "outputs": [],
   "source": []
  },
  {
   "cell_type": "markdown",
   "metadata": {},
   "source": [
    "## 주차장별 1km 반경 맵핑"
   ]
  },
  {
   "cell_type": "code",
   "execution_count": 120,
   "metadata": {},
   "outputs": [],
   "source": [
    "import pandas as pd\n",
    "import math\n",
    "import dask.dataframe as dd\n",
    "from dask.diagnostics import ProgressBar\n",
    "from haversine import haversine, Unit\n",
    "from tqdm import tqdm\n",
    "tqdm.pandas()\n"
   ]
  },
  {
   "cell_type": "code",
   "execution_count": 121,
   "metadata": {},
   "outputs": [],
   "source": [
    "parking_data = pd.read_csv('./parking_data_20241001_1120.csv')  # 주차장 목록\n",
    "search_parking_road_data_cp = pd.read_csv('./parking_road_mapping_data_241002.csv', encoding='utf-8-sig')  # 주차장 주변 1km 도로 목록"
   ]
  },
  {
   "cell_type": "code",
   "execution_count": 123,
   "metadata": {},
   "outputs": [],
   "source": [
    "# 위경도 정리 'lat_lon' 만들기\n",
    "def re_lat_lon(geometry):\n",
    "    lat_lon_pair = []\n",
    "    geometry = eval(geometry)\n",
    "    for geometry_list1 in geometry:\n",
    "        for geometry_list2 in geometry_list1:\n",
    "            lat_lon_pair.append((geometry_list2[1],geometry_list2[0]))\n",
    "            \n",
    "    return lat_lon_pair\n",
    "\n",
    "search_parking_road_data_cp['lat_lon'] = search_parking_road_data_cp['geometry'].progress_apply(re_lat_lon)"
   ]
  },
  {
   "cell_type": "code",
   "execution_count": 129,
   "metadata": {},
   "outputs": [],
   "source": [
    "# 주차장 주변 500m 이내 도로 맵핑\n",
    "def find_nearest_for_row(row):\n",
    "    # '주차장 이름'으로 필터링\n",
    "    filtered_data_cp = search_parking_road_data_cp[search_parking_road_data_cp['주차장 이름'] == row['주차장 이름']]\n",
    "    \n",
    "    # 주차장 좌표와 비교할 좌표 (위도, 경도)\n",
    "    search_point = (row['위도'], row['경도'])\n",
    "    \n",
    "    # 좌표 리스트 풀기\n",
    "    near_points = []\n",
    "    link_ids = []\n",
    "\n",
    "    for idx, lat_lon_list in filtered_data_cp.iterrows():\n",
    "        for lat_lon in lat_lon_list['lat_lon']:\n",
    "            near_points.append(lat_lon)\n",
    "            link_ids.append(lat_lon_list['link_id'])  # 해당 좌표에 해당하는 link_id 저장\n",
    "    \n",
    "    nearest_points = []\n",
    "\n",
    "    # 각 좌표에 대해 하버사인 거리 계산\n",
    "    for lat_lon, link_id in zip(near_points, link_ids):\n",
    "        # 정확한 거리 계산 (단위: meters)\n",
    "        distance_m = haversine(search_point, lat_lon, unit=Unit.METERS)\n",
    "        \n",
    "        # 500m 이내의 좌표만 필터링\n",
    "        if distance_m <= 500:\n",
    "            nearest_points.append({'link_id': link_id, 'distance': int(distance_m)})  # 거리 값을 m 단위로 변환하여 저장\n",
    "\n",
    "    # 거리 기준으로 오름차순 정렬\n",
    "    nearest_points = sorted(nearest_points, key=lambda x: x['distance'])\n",
    "\n",
    "    # 동일한 link_id 중 가장 가까운 거리만 남기기\n",
    "    unique_nearest_points = {}\n",
    "    for point in nearest_points:\n",
    "        link_id = point['link_id']\n",
    "        if link_id not in unique_nearest_points:\n",
    "            unique_nearest_points[link_id] = point  # 가장 가까운 거리만 저장\n",
    "\n",
    "    # unique_nearest_points를 리스트로 변환\n",
    "    nearest_points = list(unique_nearest_points.values())\n",
    "\n",
    "    return pd.Series({\n",
    "        '주차장 이름': row['주차장 이름'],\n",
    "        '위도': row['위도'],\n",
    "        '경도': row['경도'],\n",
    "        'nearest_points': nearest_points\n",
    "    })\n"
   ]
  },
  {
   "cell_type": "code",
   "execution_count": 130,
   "metadata": {},
   "outputs": [],
   "source": [
    "# meta 정의\n",
    "meta = pd.DataFrame({\n",
    "    '주차장 이름': pd.Series(dtype='str'),\n",
    "    '위도': pd.Series(dtype='float'),\n",
    "    '경도': pd.Series(dtype='float'),\n",
    "    'nearest_points': pd.Series(dtype='object')\n",
    "})\n",
    "\n",
    "# Dask apply 적용\n",
    "ddf = dd.from_pandas(parking_data, npartitions=6)\n",
    "ddf = ddf.apply(find_nearest_for_row, axis=1, meta=meta)\n",
    "\n",
    "# ProgressBar 사용\n",
    "with ProgressBar():\n",
    "    result = ddf.compute()\n",
    "\n",
    "# print(result)"
   ]
  },
  {
   "cell_type": "code",
   "execution_count": null,
   "metadata": {},
   "outputs": [],
   "source": []
  },
  {
   "cell_type": "markdown",
   "metadata": {},
   "source": [
    "## 주차장별 도로 맵핑 데이터 정리"
   ]
  },
  {
   "cell_type": "code",
   "execution_count": 179,
   "metadata": {},
   "outputs": [],
   "source": [
    "# 교통 데이터 로드\n",
    "test_its_traffic_data = pd.read_csv('./data/its_traffic_241001_02/its_traffic_data_2024-10-01_184218.csv', encoding='utf-8-sig')"
   ]
  },
  {
   "cell_type": "code",
   "execution_count": 180,
   "metadata": {},
   "outputs": [
    {
     "data": {
      "text/plain": [
       "pandas.core.series.Series"
      ]
     },
     "execution_count": 180,
     "metadata": {},
     "output_type": "execute_result"
    }
   ],
   "source": [
    "# 샘플 테스트\n",
    "nearest_result_search_parking_lot = result[:1]\n",
    "type(nearest_result_search_parking_lot['nearest_points'])"
   ]
  },
  {
   "cell_type": "code",
   "execution_count": 181,
   "metadata": {},
   "outputs": [],
   "source": [
    "# 주차장 주변 도로 link_id 추출\n",
    "nearest_points_str = nearest_result_search_parking_lot['nearest_points']\n",
    "nearest_points = [item_2['link_id'] for item_1 in nearest_points_str for item_2 in eval(item_1)]"
   ]
  },
  {
   "cell_type": "code",
   "execution_count": 182,
   "metadata": {},
   "outputs": [
    {
     "data": {
      "text/html": [
       "<div>\n",
       "<style scoped>\n",
       "    .dataframe tbody tr th:only-of-type {\n",
       "        vertical-align: middle;\n",
       "    }\n",
       "\n",
       "    .dataframe tbody tr th {\n",
       "        vertical-align: top;\n",
       "    }\n",
       "\n",
       "    .dataframe thead th {\n",
       "        text-align: right;\n",
       "    }\n",
       "</style>\n",
       "<table border=\"1\" class=\"dataframe\">\n",
       "  <thead>\n",
       "    <tr style=\"text-align: right;\">\n",
       "      <th>linkId</th>\n",
       "      <th>1090040300</th>\n",
       "      <th>1090040800</th>\n",
       "      <th>1090000602</th>\n",
       "      <th>1090000601</th>\n",
       "      <th>1090040200</th>\n",
       "      <th>1090040900</th>\n",
       "      <th>1090000501</th>\n",
       "      <th>1090000502</th>\n",
       "      <th>1090000603</th>\n",
       "      <th>1090000503</th>\n",
       "      <th>...</th>\n",
       "      <th>1090013202</th>\n",
       "      <th>1090042500</th>\n",
       "      <th>1090041400</th>\n",
       "      <th>1090041500</th>\n",
       "      <th>1090042600</th>\n",
       "      <th>1090040001</th>\n",
       "      <th>1090040101</th>\n",
       "      <th>2070000401</th>\n",
       "      <th>2070000301</th>\n",
       "      <th>1090039300</th>\n",
       "    </tr>\n",
       "  </thead>\n",
       "  <tbody>\n",
       "    <tr>\n",
       "      <th>speed</th>\n",
       "      <td>22.0</td>\n",
       "      <td>12.0</td>\n",
       "      <td>23.0</td>\n",
       "      <td>29.0</td>\n",
       "      <td>8.0</td>\n",
       "      <td>22.0</td>\n",
       "      <td>20.0</td>\n",
       "      <td>28.0</td>\n",
       "      <td>28.0</td>\n",
       "      <td>38.5</td>\n",
       "      <td>...</td>\n",
       "      <td>14.0</td>\n",
       "      <td>21.0</td>\n",
       "      <td>26.0</td>\n",
       "      <td>39.0</td>\n",
       "      <td>88.0</td>\n",
       "      <td>13.0</td>\n",
       "      <td>35.0</td>\n",
       "      <td>49.0</td>\n",
       "      <td>27.5</td>\n",
       "      <td>13.0</td>\n",
       "    </tr>\n",
       "  </tbody>\n",
       "</table>\n",
       "<p>1 rows × 45 columns</p>\n",
       "</div>"
      ],
      "text/plain": [
       "linkId  1090040300  1090040800  1090000602  1090000601  1090040200  \\\n",
       "speed         22.0        12.0        23.0        29.0         8.0   \n",
       "\n",
       "linkId  1090040900  1090000501  1090000502  1090000603  1090000503  ...  \\\n",
       "speed         22.0        20.0        28.0        28.0        38.5  ...   \n",
       "\n",
       "linkId  1090013202  1090042500  1090041400  1090041500  1090042600  \\\n",
       "speed         14.0        21.0        26.0        39.0        88.0   \n",
       "\n",
       "linkId  1090040001  1090040101  2070000401  2070000301  1090039300  \n",
       "speed         13.0        35.0        49.0        27.5        13.0  \n",
       "\n",
       "[1 rows x 45 columns]"
      ]
     },
     "execution_count": 182,
     "metadata": {},
     "output_type": "execute_result"
    }
   ],
   "source": [
    "# 주차장 주변도로 교통상황 데이터프레임 생성\n",
    "link_id_df = pd.DataFrame({'linkId': nearest_points})\n",
    "merged_df = link_id_df.merge(test_its_traffic_data[['linkId', 'speed']], on='linkId', how='left')\n",
    "merged_df.set_index('linkId', inplace=True)\n",
    "merged_df.T"
   ]
  },
  {
   "cell_type": "code",
   "execution_count": null,
   "metadata": {},
   "outputs": [],
   "source": []
  },
  {
   "cell_type": "markdown",
   "metadata": {},
   "source": [
    "## 테스트 시각화"
   ]
  },
  {
   "cell_type": "code",
   "execution_count": 39,
   "metadata": {},
   "outputs": [
    {
     "data": {
      "text/plain": [
       "11"
      ]
     },
     "execution_count": 39,
     "metadata": {},
     "output_type": "execute_result"
    }
   ],
   "source": [
    "test_filtered = search_parking_road_data_cp['주차장 이름'].value_counts() <= 10\n",
    "filtered_names = test_filtered[test_filtered].index\n",
    "len(filtered_names)"
   ]
  },
  {
   "cell_type": "code",
   "execution_count": 38,
   "metadata": {},
   "outputs": [
    {
     "name": "stderr",
     "output_type": "stream",
     "text": [
      "c:\\Users\\loopi\\anaconda3\\envs\\def\\Lib\\site-packages\\folium\\utilities.py:94: FutureWarning: Calling float on a single element Series is deprecated and will raise a TypeError in the future. Use float(ser.iloc[0]) instead\n",
      "  float(coord)\n",
      "c:\\Users\\loopi\\anaconda3\\envs\\def\\Lib\\site-packages\\folium\\utilities.py:100: FutureWarning: Calling float on a single element Series is deprecated and will raise a TypeError in the future. Use float(ser.iloc[0]) instead\n",
      "  if math.isnan(float(coord)):\n",
      "c:\\Users\\loopi\\anaconda3\\envs\\def\\Lib\\site-packages\\folium\\utilities.py:102: FutureWarning: Calling float on a single element Series is deprecated and will raise a TypeError in the future. Use float(ser.iloc[0]) instead\n",
      "  return [float(x) for x in coords]\n"
     ]
    },
    {
     "data": {
      "text/plain": [
       "True"
      ]
     },
     "execution_count": 38,
     "metadata": {},
     "output_type": "execute_result"
    }
   ],
   "source": [
    "import folium\n",
    "import webbrowser\n",
    "import os\n",
    "\n",
    "# 지도 생성 (서울 근처의 중심 좌표 설정)\n",
    "map_center = [37.672, 127.06]\n",
    "mymap = folium.Map(location=map_center, zoom_start=12)\n",
    "\n",
    "for filtered_name in filtered_names:\n",
    "    \n",
    "    parking_lot_name = filtered_name\n",
    "\n",
    "    test_parking_data = parking_data[parking_data['주차장 이름'] == parking_lot_name]\n",
    "    test_search_parking_road_data_cp = search_parking_road_data_cp[search_parking_road_data_cp['주차장 이름'] == parking_lot_name]\n",
    "\n",
    "\n",
    "    folium.Marker(location=[test_parking_data['위도'], test_parking_data['경도']],icon=folium.Icon(color='red')).add_to(mymap)\n",
    "\n",
    "    for _, row in test_search_parking_road_data_cp.iterrows():\n",
    "        lat_lon = row['lat_lon']\n",
    "        for lat, lon in lat_lon:\n",
    "            folium.Marker(location=[lat, lon],icon=folium.Icon(color='green')).add_to(mymap)\n",
    "\n",
    "# HTML 파일 저장\n",
    "map_file = 'test_vword_road_map.html'\n",
    "mymap.save(map_file)\n",
    "\n",
    "# 저장한 파일을 기본 브라우저로 열기\n",
    "webbrowser.open('file://' + os.path.realpath(map_file))"
   ]
  },
  {
   "cell_type": "code",
   "execution_count": null,
   "metadata": {},
   "outputs": [],
   "source": []
  }
 ],
 "metadata": {
  "kernelspec": {
   "display_name": "def",
   "language": "python",
   "name": "python3"
  },
  "language_info": {
   "codemirror_mode": {
    "name": "ipython",
    "version": 3
   },
   "file_extension": ".py",
   "mimetype": "text/x-python",
   "name": "python",
   "nbconvert_exporter": "python",
   "pygments_lexer": "ipython3",
   "version": "3.11.9"
  }
 },
 "nbformat": 4,
 "nbformat_minor": 2
}
