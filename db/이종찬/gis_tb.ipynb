{
 "cells": [
  {
   "cell_type": "code",
   "execution_count": 4,
   "metadata": {},
   "outputs": [
    {
     "name": "stdout",
     "output_type": "stream",
     "text": [
      "tb_gis 테이블이 성공적으로 생성되었습니다.\n"
     ]
    }
   ],
   "source": [
    "import pymysql\n",
    "\n",
    "# MySQL 연결 설정\n",
    "connection = pymysql.connect(\n",
    "    host='',      # MySQL 서버 주소 (로컬 호스트라면 'localhost' 또는 127.0.0.1)\n",
    "    port= ,           # MySQL 사용자 이름\n",
    "    database=\"\",\n",
    "    user=\"\",\n",
    "    password=\"\",\n",
    "    charset=\"\"\n",
    ")\n",
    "\n",
    "try:\n",
    "    with connection.cursor() as cursor:\n",
    "        # tb_gis 테이블 생성 SQL 쿼리 작성\n",
    "        sql = \"\"\"\n",
    "        CREATE TABLE IF NOT EXISTS tb_gis (\n",
    "            id INTEGER(10),          -- 고유 ID\n",
    "            park_name VARCHAR(40),                     -- 주차장 이름\n",
    "            address_name VARCHAR(45),                  -- 주차장 주소\n",
    "            category_group_code VARCHAR(5),           -- 주차장 코드\n",
    "            park_lat DECIMAL(16, 13),                      -- 주차장 위도 (latitude)\n",
    "            park_lng DECIMAL(16, 13),                      -- 주차장 경도 (longitude)\n",
    "            distance INTEGER,                      -- 주차장과 공공기관의 거리\n",
    "            place_name VARCHAR(70),                    -- 이름\n",
    "            category_name VARCHAR(70),                 -- 그룹이름\n",
    "            category_group_name VARCHAR(20),           -- 카테고리 그룹 이름\n",
    "            road_address_name VARCHAR(45),             -- 주소\n",
    "            gis_lat DECIMAL(16, 13),                       -- GIS 위도\n",
    "            gis_lng DECIMAL(16, 13)                       -- GIS 경도\n",
    "        )\n",
    "        \"\"\"\n",
    "        cursor.execute(sql)  # SQL 쿼리 실행\n",
    "        print(\"tb_gis 테이블이 성공적으로 생성되었습니다.\")\n",
    "\n",
    "    # 변경 사항 커밋\n",
    "    connection.commit()\n",
    "\n",
    "finally:\n",
    "    # 연결 종료\n",
    "    connection.close()\n"
   ]
  },
  {
   "cell_type": "code",
   "execution_count": null,
   "metadata": {},
   "outputs": [],
   "source": [
    "import pymysql\n",
    "\n",
    "# 데이터베이스 접속 정보\n",
    "connection = pymysql.connect(\n",
    "    host='',\n",
    "    port=,\n",
    "    database=\"\",\n",
    "    user=\"\",\n",
    "    password=\"\",\n",
    "    charset=\"\"\n",
    ")\n",
    "\n",
    "# 데이터베이스 테이블에서 모든 데이터 삭제 (TRUNCATE 사용)\n",
    "with connection.cursor() as cursor:\n",
    "    truncate_query = \"TRUNCATE TABLE `tb_gis`\"\n",
    "    cursor.execute(truncate_query)\n",
    "    connection.commit()\n",
    "\n",
    "# 연결 종료\n",
    "connection.close()\n",
    "\n",
    "print(\"tb-gis 테이블의 모든 데이터를 성공적으로 삭제했습니다.\")"
   ]
  },
  {
   "cell_type": "code",
   "execution_count": 1,
   "metadata": {},
   "outputs": [
    {
     "name": "stdout",
     "output_type": "stream",
     "text": [
      "모든 데이터를 성공적으로 삽입했습니다.\n"
     ]
    }
   ],
   "source": [
    "import pandas as pd\n",
    "import pymysql\n",
    "\n",
    "# CSV 파일 불러오기\n",
    "csv_file_path = 'C:/Users/USER/Desktop/Final/category_output_data_241011.csv'\n",
    "data = pd.read_csv(csv_file_path)\n",
    "\n",
    "# NaN 값을 빈 문자열로 대체\n",
    "data.fillna('', inplace=True)\n",
    "\n",
    "# 데이터베이스 접속 정보\n",
    "connection = pymysql.connect(\n",
    "    host='',\n",
    "    port=,\n",
    "    database=\"\",\n",
    "    user=\"\",\n",
    "    password=\"\",\n",
    "    charset=\"\"\n",
    ")\n",
    "\n",
    "# 검색 포인트에서 park_lng와 park_lat 추출\n",
    "data['park_lng'] = data['search_point'].str.extract(r'^\\s*\\(\\s*([-\\d.]+),')[0].astype(float)\n",
    "data['park_lat'] = data['search_point'].str.extract(r',\\s*([-\\d.]+)\\s*\\)')[0].astype(float)\n",
    "\n",
    "# 삽입할 데이터 준비\n",
    "insert_data = data[['id', 'park_name', 'address_name', 'category_group_code', 'park_lat', 'park_lng', 'distance', 'place_name', 'category_name', 'category_group_name', 'road_address_name', 'gis_lat', 'gis_lng']]\n",
    "\n",
    "# SQL INSERT 쿼리\n",
    "insert_query = \"\"\"\n",
    "    INSERT INTO `tb_gis` (id, park_name, address_name, category_group_code, park_lat, park_lng, distance, place_name, category_name, category_group_name, road_address_name, gis_lat, gis_lng) \n",
    "    VALUES (%s, %s, %s, %s, %s, %s, %s, %s, %s, %s, %s, %s, %s)\n",
    "\"\"\"\n",
    "\n",
    "# 데이터 삽입\n",
    "with connection.cursor() as cursor:\n",
    "    for index, row in insert_data.iterrows():\n",
    "        cursor.execute(insert_query, tuple(row))\n",
    "        if index % 1000 == 0:  # 1000개마다 커밋\n",
    "            connection.commit()\n",
    "    connection.commit()  # 마지막 커밋\n",
    "\n",
    "# 연결 종료\n",
    "connection.close()\n",
    "\n",
    "print(\"모든 데이터를 성공적으로 삽입했습니다.\")\n"
   ]
  },
  {
   "cell_type": "code",
   "execution_count": null,
   "metadata": {},
   "outputs": [],
   "source": []
  }
 ],
 "metadata": {
  "kernelspec": {
   "display_name": "p2p-env",
   "language": "python",
   "name": "python3"
  },
  "language_info": {
   "codemirror_mode": {
    "name": "ipython",
    "version": 3
   },
   "file_extension": ".py",
   "mimetype": "text/x-python",
   "name": "python",
   "nbconvert_exporter": "python",
   "pygments_lexer": "ipython3",
   "version": "3.11.9"
  }
 },
 "nbformat": 4,
 "nbformat_minor": 2
}
